{
 "cells": [
  {
   "cell_type": "code",
   "execution_count": 2,
   "id": "5b38f74c",
   "metadata": {},
   "outputs": [
    {
     "name": "stderr",
     "output_type": "stream",
     "text": [
      "2022-09-04 19:22:25.562255: I tensorflow/stream_executor/platform/default/dso_loader.cc:49] Successfully opened dynamic library libcudart.so.10.1\n"
     ]
    }
   ],
   "source": [
    "from n2v.models import N2V\n",
    "import numpy as np\n",
    "from matplotlib import pyplot as plt\n",
    "from tifffile import imread\n",
    "from csbdeep.io import save_tiff_imagej_compatible\n",
    "import glob\n",
    "from aicspylibczi import CziFile\n",
    "import os\n",
    "import tifffile"
   ]
  },
  {
   "cell_type": "code",
   "execution_count": 3,
   "id": "b02d3e36",
   "metadata": {},
   "outputs": [
    {
     "ename": "FileNotFoundError",
     "evalue": "config file doesn't exist: /home/rhoadss/Documents/DL_MBL_2022_1hot/N2V_models/n2v-for-stardist_3D_lyso-only/config.json",
     "output_type": "error",
     "traceback": [
      "\u001b[0;31m---------------------------------------------------------------------------\u001b[0m",
      "\u001b[0;31mFileNotFoundError\u001b[0m                         Traceback (most recent call last)",
      "\u001b[0;32m/tmp/ipykernel_30320/4142192352.py\u001b[0m in \u001b[0;36m<module>\u001b[0;34m\u001b[0m\n\u001b[1;32m      1\u001b[0m \u001b[0mmodel_name\u001b[0m \u001b[0;34m=\u001b[0m \u001b[0;34m'n2v-for-stardist_3D_lyso-only'\u001b[0m\u001b[0;34m\u001b[0m\u001b[0;34m\u001b[0m\u001b[0m\n\u001b[1;32m      2\u001b[0m \u001b[0mbasedir\u001b[0m \u001b[0;34m=\u001b[0m \u001b[0;34m'N2V_models'\u001b[0m\u001b[0;34m\u001b[0m\u001b[0;34m\u001b[0m\u001b[0m\n\u001b[0;32m----> 3\u001b[0;31m \u001b[0mmodel\u001b[0m \u001b[0;34m=\u001b[0m \u001b[0mN2V\u001b[0m\u001b[0;34m(\u001b[0m\u001b[0mconfig\u001b[0m\u001b[0;34m=\u001b[0m\u001b[0;32mNone\u001b[0m\u001b[0;34m,\u001b[0m \u001b[0mname\u001b[0m\u001b[0;34m=\u001b[0m\u001b[0mmodel_name\u001b[0m\u001b[0;34m,\u001b[0m \u001b[0mbasedir\u001b[0m\u001b[0;34m=\u001b[0m\u001b[0mbasedir\u001b[0m\u001b[0;34m)\u001b[0m\u001b[0;34m\u001b[0m\u001b[0;34m\u001b[0m\u001b[0m\n\u001b[0m",
      "\u001b[0;32m~/miniconda3/envs/n2v/lib/python3.7/site-packages/n2v/models/n2v_standard.py\u001b[0m in \u001b[0;36m__init__\u001b[0;34m(self, config, name, basedir)\u001b[0m\n\u001b[1;32m     97\u001b[0m             \u001b[0;31m# config was provided -> update before it is saved to disk\u001b[0m\u001b[0;34m\u001b[0m\u001b[0;34m\u001b[0m\u001b[0;34m\u001b[0m\u001b[0m\n\u001b[1;32m     98\u001b[0m             \u001b[0mself\u001b[0m\u001b[0;34m.\u001b[0m\u001b[0m_update_and_check_config\u001b[0m\u001b[0;34m(\u001b[0m\u001b[0;34m)\u001b[0m\u001b[0;34m\u001b[0m\u001b[0;34m\u001b[0m\u001b[0m\n\u001b[0;32m---> 99\u001b[0;31m         \u001b[0mself\u001b[0m\u001b[0;34m.\u001b[0m\u001b[0m_set_logdir\u001b[0m\u001b[0;34m(\u001b[0m\u001b[0;34m)\u001b[0m\u001b[0;34m\u001b[0m\u001b[0;34m\u001b[0m\u001b[0m\n\u001b[0m\u001b[1;32m    100\u001b[0m         \u001b[0;32mif\u001b[0m \u001b[0mconfig\u001b[0m \u001b[0;32mis\u001b[0m \u001b[0;32mNone\u001b[0m\u001b[0;34m:\u001b[0m\u001b[0;34m\u001b[0m\u001b[0;34m\u001b[0m\u001b[0m\n\u001b[1;32m    101\u001b[0m             \u001b[0;31m# config was loaded from disk -> update it after loading\u001b[0m\u001b[0;34m\u001b[0m\u001b[0;34m\u001b[0m\u001b[0;34m\u001b[0m\u001b[0m\n",
      "\u001b[0;32m~/miniconda3/envs/n2v/lib/python3.7/site-packages/n2v/models/n2v_standard.py\u001b[0m in \u001b[0;36m_set_logdir\u001b[0;34m(self)\u001b[0m\n\u001b[1;32m    410\u001b[0m                     \u001b[0;32mraise\u001b[0m \u001b[0mValueError\u001b[0m\u001b[0;34m(\u001b[0m\u001b[0;34m'Invalid attributes in loaded config: '\u001b[0m \u001b[0;34m+\u001b[0m \u001b[0;34m', '\u001b[0m\u001b[0;34m.\u001b[0m\u001b[0mjoin\u001b[0m\u001b[0;34m(\u001b[0m\u001b[0minvalid_attr\u001b[0m\u001b[0;34m)\u001b[0m\u001b[0;34m)\u001b[0m\u001b[0;34m\u001b[0m\u001b[0;34m\u001b[0m\u001b[0m\n\u001b[1;32m    411\u001b[0m             \u001b[0;32melse\u001b[0m\u001b[0;34m:\u001b[0m\u001b[0;34m\u001b[0m\u001b[0;34m\u001b[0m\u001b[0m\n\u001b[0;32m--> 412\u001b[0;31m                 \u001b[0;32mraise\u001b[0m \u001b[0mFileNotFoundError\u001b[0m\u001b[0;34m(\u001b[0m\u001b[0;34m\"config file doesn't exist: %s\"\u001b[0m \u001b[0;34m%\u001b[0m \u001b[0mstr\u001b[0m\u001b[0;34m(\u001b[0m\u001b[0mconfig_file\u001b[0m\u001b[0;34m.\u001b[0m\u001b[0mresolve\u001b[0m\u001b[0;34m(\u001b[0m\u001b[0;34m)\u001b[0m\u001b[0;34m)\u001b[0m\u001b[0;34m)\u001b[0m\u001b[0;34m\u001b[0m\u001b[0;34m\u001b[0m\u001b[0m\n\u001b[0m\u001b[1;32m    413\u001b[0m         \u001b[0;32melse\u001b[0m\u001b[0;34m:\u001b[0m\u001b[0;34m\u001b[0m\u001b[0;34m\u001b[0m\u001b[0m\n\u001b[1;32m    414\u001b[0m             \u001b[0;32mif\u001b[0m \u001b[0mself\u001b[0m\u001b[0;34m.\u001b[0m\u001b[0mlogdir\u001b[0m\u001b[0;34m.\u001b[0m\u001b[0mexists\u001b[0m\u001b[0;34m(\u001b[0m\u001b[0;34m)\u001b[0m\u001b[0;34m:\u001b[0m\u001b[0;34m\u001b[0m\u001b[0;34m\u001b[0m\u001b[0m\n",
      "\u001b[0;31mFileNotFoundError\u001b[0m: config file doesn't exist: /home/rhoadss/Documents/DL_MBL_2022_1hot/N2V_models/n2v-for-stardist_3D_lyso-only/config.json"
     ]
    }
   ],
   "source": [
    "model_name = 'n2v-for-stardist_3D_lyso-only'\n",
    "basedir = 'N2V_models'\n",
    "model = N2V(config=None, name=model_name, basedir=basedir)"
   ]
  },
  {
   "cell_type": "code",
   "execution_count": 3,
   "id": "15f334dc",
   "metadata": {},
   "outputs": [],
   "source": [
    "path = glob.glob('/mnt/shared/potatoshapes/shannonsdata/raw_data/3D_data/*.czi')\n"
   ]
  },
  {
   "cell_type": "code",
   "execution_count": 4,
   "id": "a94cc98a",
   "metadata": {},
   "outputs": [
    {
     "data": {
      "text/plain": [
       "124"
      ]
     },
     "execution_count": 4,
     "metadata": {},
     "output_type": "execute_result"
    }
   ],
   "source": [
    "len(path)"
   ]
  },
  {
   "cell_type": "code",
   "execution_count": null,
   "id": "d18fbad6",
   "metadata": {},
   "outputs": [],
   "source": [
    "# img, shape = CziFile(path[1]).read_image() # image of index 1 has a problem (maybe not uploaded yet or maybe corrupt from bad upload)\n",
    "# # print(img.shape)\n",
    "# img = np.squeeze(img)\n",
    "# # print(img.shape)\n",
    "# if img.shape[0] == 7:\n",
    "#     img = img[:-1,...]\n",
    "# # print(img.shape)\n",
    "# img = np.moveaxis(img, [0], [3])\n",
    "# # print(img.shape)\n",
    "# img_SZYXC = np.expand_dims(img, axis=0)\n",
    "# print(img_SZYXC.shape)"
   ]
  },
  {
   "cell_type": "code",
   "execution_count": 34,
   "id": "a5b1b256",
   "metadata": {},
   "outputs": [
    {
     "name": "stdout",
     "output_type": "stream",
     "text": [
      "(1, 1, 1, 7, 15, 1688, 1688)\n",
      "(7, 15, 1688, 1688)\n",
      "(6, 15, 1688, 1688)\n",
      "(15, 1688, 1688, 6)\n",
      "(1, 15, 1688, 1688, 6)\n",
      "(1, 1, 1, 6, 33, 1688, 1688)\n",
      "(6, 33, 1688, 1688)\n",
      "(6, 33, 1688, 1688)\n",
      "(33, 1688, 1688, 6)\n",
      "(1, 33, 1688, 1688, 6)\n",
      "(1, 1, 1, 7, 22, 1688, 1688)\n",
      "(7, 22, 1688, 1688)\n",
      "(6, 22, 1688, 1688)\n",
      "(22, 1688, 1688, 6)\n",
      "(1, 22, 1688, 1688, 6)\n",
      "(1, 1, 1, 7, 19, 1688, 1688)\n",
      "(7, 19, 1688, 1688)\n",
      "(6, 19, 1688, 1688)\n",
      "(19, 1688, 1688, 6)\n",
      "(1, 19, 1688, 1688, 6)\n",
      "(1, 1, 1, 6, 34, 1688, 1688)\n",
      "(6, 34, 1688, 1688)\n",
      "(6, 34, 1688, 1688)\n",
      "(34, 1688, 1688, 6)\n",
      "(1, 34, 1688, 1688, 6)\n"
     ]
    }
   ],
   "source": [
    "img_SZYXC_list = []\n",
    "file_names = []\n",
    "for i,this_path in enumerate(path[:5]):\n",
    "    file_names.append(this_path)\n",
    "    img, shape = CziFile(this_path).read_image() # image of index 1 has a problem (maybe not uploaded yet or maybe corrupt from bad upload)\n",
    "    print(img.shape)\n",
    "    img = np.squeeze(img)\n",
    "    print(img.shape)\n",
    "    if img.shape[0] == 7:\n",
    "        img = img[:-1,...]\n",
    "    print(img.shape)\n",
    "    img = np.moveaxis(img, [0], [3])\n",
    "    print(img.shape)\n",
    "    img_SZYXC_list.append(np.expand_dims(img, axis=0))\n",
    "    print(img_SZYXC_list[i].shape)\n"
   ]
  },
  {
   "cell_type": "code",
   "execution_count": 37,
   "id": "028528af",
   "metadata": {},
   "outputs": [
    {
     "name": "stdout",
     "output_type": "stream",
     "text": [
      "5\n"
     ]
    }
   ],
   "source": [
    "print(len(img_SZYXC_list))"
   ]
  },
  {
   "cell_type": "code",
   "execution_count": null,
   "id": "600f73cf",
   "metadata": {},
   "outputs": [],
   "source": [
    "# img_lys = img_SZYXC[0,:,744:944,744:944,:]\n",
    "# print(img_lys.shape`)"
   ]
  },
  {
   "cell_type": "code",
   "execution_count": 9,
   "id": "0a7764b2",
   "metadata": {},
   "outputs": [
    {
     "name": "stdout",
     "output_type": "stream",
     "text": [
      "The input image is of type uint16 and will be casted to float32 for prediction.\n"
     ]
    },
    {
     "name": "stderr",
     "output_type": "stream",
     "text": [
      "2022-09-04 14:30:49.019454: I tensorflow/compiler/mlir/mlir_graph_optimization_pass.cc:116] None of the MLIR optimization passes are enabled (registered 2)\n",
      "2022-09-04 14:30:49.039009: I tensorflow/core/platform/profile_utils/cpu_utils.cc:112] CPU Frequency: 2499995000 Hz\n",
      "2022-09-04 14:30:50.398478: I tensorflow/stream_executor/platform/default/dso_loader.cc:49] Successfully opened dynamic library libcudnn.so.7\n",
      "2022-09-04 14:30:51.646015: W tensorflow/stream_executor/gpu/asm_compiler.cc:63] Running ptxas --version returned 256\n",
      "2022-09-04 14:30:51.796860: W tensorflow/stream_executor/gpu/redzone_allocator.cc:314] Internal: ptxas exited with non-zero error code 256, output: \n",
      "Relying on driver to perform ptx compilation. \n",
      "Modify $PATH to customize ptxas location.\n",
      "This message will be only logged once.\n",
      "2022-09-04 14:30:53.254541: I tensorflow/stream_executor/platform/default/dso_loader.cc:49] Successfully opened dynamic library libcublas.so.10\n"
     ]
    },
    {
     "data": {
      "text/plain": [
       "(15, 200, 200, 6)"
      ]
     },
     "execution_count": 9,
     "metadata": {},
     "output_type": "execute_result"
    }
   ],
   "source": [
    "# pred = model.predict(img_SZYXC_list[0][0,:,744:944,744:944,:], axes='ZYXC')\n",
    "# pred.shape"
   ]
  },
  {
   "cell_type": "code",
   "execution_count": 46,
   "id": "f189fc00",
   "metadata": {},
   "outputs": [
    {
     "name": "stdout",
     "output_type": "stream",
     "text": [
      "The input image is of type uint16 and will be casted to float32 for prediction.\n",
      "The input image is of type uint16 and will be casted to float32 for prediction.\n",
      "The input image is of type uint16 and will be casted to float32 for prediction.\n",
      "The input image is of type uint16 and will be casted to float32 for prediction.\n",
      "The input image is of type uint16 and will be casted to float32 for prediction.\n"
     ]
    }
   ],
   "source": [
    "save_dir = '/mnt/shared/potatoshapes/shannonsdata/N2V_predictions/'\n",
    "pred_list = []\n",
    "for idx,img in enumerate(img_SZYXC_list):\n",
    "    pred = model.predict(img[0,:,744:944,744:944,:], axes='ZYXC')\n",
    "    pred_list.append(pred)\n",
    "#     print(pred.shape)\n",
    "    name_construct = os.path.basename(file_names[idx])[:-4].replace(' ', '-')\n",
    "    name = f'{name_construct}_prediction.tiff'\n",
    "#     print(name_construct)\n",
    "#     tifffile.imwrite(os.path.join(save_dir, name), data=pred)"
   ]
  },
  {
   "cell_type": "code",
   "execution_count": 43,
   "id": "15db3a77",
   "metadata": {},
   "outputs": [
    {
     "name": "stdout",
     "output_type": "stream",
     "text": [
      "5\n"
     ]
    }
   ],
   "source": [
    "print(len(pred_list))\n",
    "pred = pred_list[0]"
   ]
  },
  {
   "cell_type": "code",
   "execution_count": 1,
   "id": "9cb498d1",
   "metadata": {},
   "outputs": [
    {
     "ename": "NameError",
     "evalue": "name 'pred' is not defined",
     "output_type": "error",
     "traceback": [
      "\u001b[0;31m---------------------------------------------------------------------------\u001b[0m",
      "\u001b[0;31mNameError\u001b[0m                                 Traceback (most recent call last)",
      "\u001b[0;32m/tmp/ipykernel_30320/2117830508.py\u001b[0m in \u001b[0;36m<module>\u001b[0;34m\u001b[0m\n\u001b[1;32m      4\u001b[0m     \u001b[0;32mreturn\u001b[0m \u001b[0mi2\u001b[0m\u001b[0;34m\u001b[0m\u001b[0;34m\u001b[0m\u001b[0m\n\u001b[1;32m      5\u001b[0m \u001b[0;34m\u001b[0m\u001b[0m\n\u001b[0;32m----> 6\u001b[0;31m \u001b[0mc0\u001b[0m \u001b[0;34m=\u001b[0m \u001b[0;34m(\u001b[0m\u001b[0mnorm_by\u001b[0m\u001b[0;34m(\u001b[0m\u001b[0mpred\u001b[0m\u001b[0;34m[\u001b[0m\u001b[0;36m5\u001b[0m\u001b[0;34m,\u001b[0m \u001b[0;34m:\u001b[0m\u001b[0;34m,\u001b[0m \u001b[0;34m:\u001b[0m\u001b[0;34m,\u001b[0m \u001b[0;36m0\u001b[0m\u001b[0;34m]\u001b[0m\u001b[0;34m,\u001b[0m \u001b[0;36m50\u001b[0m\u001b[0;34m,\u001b[0m \u001b[0;36m99.8\u001b[0m\u001b[0;34m)\u001b[0m\u001b[0;34m*\u001b[0m\u001b[0;36m255\u001b[0m\u001b[0;34m)\u001b[0m\u001b[0;34m.\u001b[0m\u001b[0mastype\u001b[0m\u001b[0;34m(\u001b[0m\u001b[0mnp\u001b[0m\u001b[0;34m.\u001b[0m\u001b[0muint8\u001b[0m\u001b[0;34m)\u001b[0m\u001b[0;34m\u001b[0m\u001b[0;34m\u001b[0m\u001b[0m\n\u001b[0m\u001b[1;32m      7\u001b[0m \u001b[0mc1\u001b[0m \u001b[0;34m=\u001b[0m \u001b[0;34m(\u001b[0m\u001b[0mnorm_by\u001b[0m\u001b[0;34m(\u001b[0m\u001b[0mpred\u001b[0m\u001b[0;34m[\u001b[0m\u001b[0;36m5\u001b[0m\u001b[0;34m,\u001b[0m \u001b[0;34m:\u001b[0m\u001b[0;34m,\u001b[0m \u001b[0;34m:\u001b[0m\u001b[0;34m,\u001b[0m \u001b[0;36m1\u001b[0m\u001b[0;34m]\u001b[0m\u001b[0;34m,\u001b[0m \u001b[0;36m50\u001b[0m\u001b[0;34m,\u001b[0m \u001b[0;36m99.8\u001b[0m\u001b[0;34m)\u001b[0m\u001b[0;34m*\u001b[0m\u001b[0;36m255\u001b[0m\u001b[0;34m)\u001b[0m\u001b[0;34m.\u001b[0m\u001b[0mastype\u001b[0m\u001b[0;34m(\u001b[0m\u001b[0mnp\u001b[0m\u001b[0;34m.\u001b[0m\u001b[0muint8\u001b[0m\u001b[0;34m)\u001b[0m\u001b[0;34m\u001b[0m\u001b[0;34m\u001b[0m\u001b[0m\n\u001b[1;32m      8\u001b[0m \u001b[0mc2\u001b[0m \u001b[0;34m=\u001b[0m \u001b[0;34m(\u001b[0m\u001b[0mnorm_by\u001b[0m\u001b[0;34m(\u001b[0m\u001b[0mpred\u001b[0m\u001b[0;34m[\u001b[0m\u001b[0;36m5\u001b[0m\u001b[0;34m,\u001b[0m \u001b[0;34m:\u001b[0m\u001b[0;34m,\u001b[0m \u001b[0;34m:\u001b[0m\u001b[0;34m,\u001b[0m \u001b[0;36m2\u001b[0m\u001b[0;34m]\u001b[0m\u001b[0;34m,\u001b[0m \u001b[0;36m50\u001b[0m\u001b[0;34m,\u001b[0m \u001b[0;36m99.8\u001b[0m\u001b[0;34m)\u001b[0m\u001b[0;34m*\u001b[0m\u001b[0;36m255\u001b[0m\u001b[0;34m)\u001b[0m\u001b[0;34m.\u001b[0m\u001b[0mastype\u001b[0m\u001b[0;34m(\u001b[0m\u001b[0mnp\u001b[0m\u001b[0;34m.\u001b[0m\u001b[0muint8\u001b[0m\u001b[0;34m)\u001b[0m\u001b[0;34m\u001b[0m\u001b[0;34m\u001b[0m\u001b[0m\n",
      "\u001b[0;31mNameError\u001b[0m: name 'pred' is not defined"
     ]
    }
   ],
   "source": [
    "def norm_by(x, min_, max_):\n",
    "    norms = np.percentile(x, [min_, max_])\n",
    "    i2 = np.clip((x - norms[0])/(norms[1]-norms[0]), 0, 1)\n",
    "    return i2\n",
    "\n",
    "c0 = (norm_by(pred[5, :, :, 0], 50, 99.8)*255).astype(np.uint8)\n",
    "c1 = (norm_by(pred[5, :, :, 1], 50, 99.8)*255).astype(np.uint8)\n",
    "c2 = (norm_by(pred[5, :, :, 2], 50, 99.8)*255).astype(np.uint8)\n",
    "c3 = (norm_by(pred[5, :, :, 3], 50, 99.8)*255).astype(np.uint8)\n",
    "c4 = (norm_by(pred[5, :, :, 4], 50, 99.8)*255).astype(np.uint8)\n",
    "c5 = (norm_by(pred[5, :, :, 5], 50, 99.8)*255).astype(np.uint8)\n",
    "plt.figure(figsize=(25,25))\n",
    "plt.subplot(2,3,1)\n",
    "plt.imshow(c0, cmap='gray')\n",
    "plt.title('Lipid Droplets');\n",
    "plt.subplot(2,3,2)\n",
    "plt.imshow(c1, cmap='gray')\n",
    "plt.title('ER');\n",
    "plt.subplot(2,3,3)\n",
    "plt.imshow(c2, cmap='gray')\n",
    "plt.title('Golgi');\n",
    "plt.subplot(2,3,4)\n",
    "plt.imshow(c3, cmap='gray')\n",
    "plt.title('Lysosomes');\n",
    "plt.subplot(2,3,5)\n",
    "plt.imshow(c4, cmap='gray')\n",
    "plt.title('Mitochondria');\n",
    "plt.subplot(2,3,6)\n",
    "plt.imshow(c5, cmap='gray')\n",
    "plt.title('Peroxisomes')\n",
    "plt.show()"
   ]
  },
  {
   "cell_type": "code",
   "execution_count": null,
   "id": "8b96977f",
   "metadata": {},
   "outputs": [],
   "source": []
  }
 ],
 "metadata": {
  "kernelspec": {
   "display_name": "Python 3 (ipykernel)",
   "language": "python",
   "name": "python3"
  },
  "language_info": {
   "codemirror_mode": {
    "name": "ipython",
    "version": 3
   },
   "file_extension": ".py",
   "mimetype": "text/x-python",
   "name": "python",
   "nbconvert_exporter": "python",
   "pygments_lexer": "ipython3",
   "version": "3.7.13"
  }
 },
 "nbformat": 4,
 "nbformat_minor": 5
}
