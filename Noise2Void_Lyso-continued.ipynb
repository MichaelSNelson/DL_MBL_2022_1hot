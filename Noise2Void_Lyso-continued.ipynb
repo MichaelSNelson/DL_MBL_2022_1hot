{
 "cells": [
  {
   "cell_type": "code",
   "execution_count": null,
   "id": "dfc287c0",
   "metadata": {},
   "outputs": [],
   "source": [
    "#This notebook is to figure out how read in random patches to run a subset of them through N2V"
   ]
  },
  {
   "cell_type": "code",
   "execution_count": 18,
   "id": "5ed73a74",
   "metadata": {
    "scrolled": true
   },
   "outputs": [],
   "source": [
    "from n2v.models import N2VConfig, N2V\n",
    "import numpy as np\n",
    "from csbdeep.utils import plot_history\n",
    "from n2v.utils.n2v_utils import manipulate_val_data\n",
    "from n2v.internals.N2V_DataGenerator import N2V_DataGenerator\n",
    "from matplotlib import pyplot as plt\n",
    "import urllib\n",
    "import os\n",
    "from skimage.metrics import structural_similarity, peak_signal_noise_ratio\n",
    "import tifffile\n",
    "import zipfile\n",
    "import glob\n",
    "from aicspylibczi import CziFile\n",
    "from pathlib import Path\n",
    "import random\n",
    "import math\n",
    "import time\n",
    "\n",
    "import ssl\n",
    "ssl._create_default_https_context = ssl._create_unverified_context\n",
    "\n",
    "# %load_ext tensorboard\n",
    "# %tensorboard --logdir Documents/DL_MBL_2022/N2V_models/n2v_3D_6channel/logs/train\n",
    "# %tensorboard dev upload --logdir \\\n",
    "#     'Documents/DL_MBL_2022/N2V_models/n2v_3D_6channel/logs/train'"
   ]
  },
  {
   "cell_type": "code",
   "execution_count": 11,
   "id": "bca606e8",
   "metadata": {},
   "outputs": [
    {
     "name": "stdout",
     "output_type": "stream",
     "text": [
      "Requirement already satisfied: tensorboard in /home/rhoadss/miniconda3/envs/n2v/lib/python3.7/site-packages (2.9.0)\n",
      "Collecting tensorboard\n",
      "  Using cached tensorboard-2.10.0-py3-none-any.whl (5.9 MB)\n",
      "Requirement already satisfied: google-auth<3,>=1.6.3 in /home/rhoadss/miniconda3/envs/n2v/lib/python3.7/site-packages (from tensorboard) (2.6.0)\n",
      "Requirement already satisfied: setuptools>=41.0.0 in /home/rhoadss/miniconda3/envs/n2v/lib/python3.7/site-packages (from tensorboard) (63.4.1)\n",
      "Requirement already satisfied: tensorboard-data-server<0.7.0,>=0.6.0 in /home/rhoadss/miniconda3/envs/n2v/lib/python3.7/site-packages (from tensorboard) (0.6.0)\n",
      "Requirement already satisfied: requests<3,>=2.21.0 in /home/rhoadss/miniconda3/envs/n2v/lib/python3.7/site-packages (from tensorboard) (2.28.1)\n",
      "Requirement already satisfied: grpcio>=1.24.3 in /home/rhoadss/miniconda3/envs/n2v/lib/python3.7/site-packages (from tensorboard) (1.42.0)\n",
      "Requirement already satisfied: markdown>=2.6.8 in /home/rhoadss/miniconda3/envs/n2v/lib/python3.7/site-packages (from tensorboard) (3.3.4)\n",
      "Requirement already satisfied: werkzeug>=1.0.1 in /home/rhoadss/miniconda3/envs/n2v/lib/python3.7/site-packages (from tensorboard) (2.0.3)\n",
      "Requirement already satisfied: google-auth-oauthlib<0.5,>=0.4.1 in /home/rhoadss/miniconda3/envs/n2v/lib/python3.7/site-packages (from tensorboard) (0.4.4)\n",
      "Collecting protobuf<3.20,>=3.9.2\n",
      "  Using cached protobuf-3.19.4-cp37-cp37m-manylinux_2_17_x86_64.manylinux2014_x86_64.whl (1.1 MB)\n",
      "Requirement already satisfied: absl-py>=0.4 in /home/rhoadss/miniconda3/envs/n2v/lib/python3.7/site-packages (from tensorboard) (0.15.0)\n",
      "Requirement already satisfied: tensorboard-plugin-wit>=1.6.0 in /home/rhoadss/miniconda3/envs/n2v/lib/python3.7/site-packages (from tensorboard) (1.8.1)\n",
      "Requirement already satisfied: wheel>=0.26 in /home/rhoadss/miniconda3/envs/n2v/lib/python3.7/site-packages (from tensorboard) (0.37.1)\n",
      "Requirement already satisfied: numpy>=1.12.0 in /home/rhoadss/miniconda3/envs/n2v/lib/python3.7/site-packages (from tensorboard) (1.21.5)\n",
      "Requirement already satisfied: six in /home/rhoadss/miniconda3/envs/n2v/lib/python3.7/site-packages (from absl-py>=0.4->tensorboard) (1.16.0)\n",
      "Requirement already satisfied: cachetools<6.0,>=2.0.0 in /home/rhoadss/miniconda3/envs/n2v/lib/python3.7/site-packages (from google-auth<3,>=1.6.3->tensorboard) (4.2.2)\n",
      "Requirement already satisfied: pyasn1-modules>=0.2.1 in /home/rhoadss/miniconda3/envs/n2v/lib/python3.7/site-packages (from google-auth<3,>=1.6.3->tensorboard) (0.2.8)\n",
      "Requirement already satisfied: rsa<5,>=3.1.4 in /home/rhoadss/miniconda3/envs/n2v/lib/python3.7/site-packages (from google-auth<3,>=1.6.3->tensorboard) (4.7.2)\n",
      "Requirement already satisfied: requests-oauthlib>=0.7.0 in /home/rhoadss/miniconda3/envs/n2v/lib/python3.7/site-packages (from google-auth-oauthlib<0.5,>=0.4.1->tensorboard) (1.3.0)\n",
      "Requirement already satisfied: importlib-metadata in /home/rhoadss/miniconda3/envs/n2v/lib/python3.7/site-packages (from markdown>=2.6.8->tensorboard) (4.11.3)\n",
      "Requirement already satisfied: urllib3<1.27,>=1.21.1 in /home/rhoadss/miniconda3/envs/n2v/lib/python3.7/site-packages (from requests<3,>=2.21.0->tensorboard) (1.26.11)\n",
      "Requirement already satisfied: idna<4,>=2.5 in /home/rhoadss/miniconda3/envs/n2v/lib/python3.7/site-packages (from requests<3,>=2.21.0->tensorboard) (3.3)\n",
      "Requirement already satisfied: certifi>=2017.4.17 in /home/rhoadss/miniconda3/envs/n2v/lib/python3.7/site-packages (from requests<3,>=2.21.0->tensorboard) (2022.6.15)\n",
      "Requirement already satisfied: charset-normalizer<3,>=2 in /home/rhoadss/miniconda3/envs/n2v/lib/python3.7/site-packages (from requests<3,>=2.21.0->tensorboard) (2.0.4)\n",
      "Requirement already satisfied: pyasn1<0.5.0,>=0.4.6 in /home/rhoadss/miniconda3/envs/n2v/lib/python3.7/site-packages (from pyasn1-modules>=0.2.1->google-auth<3,>=1.6.3->tensorboard) (0.4.8)\n",
      "Requirement already satisfied: oauthlib>=3.0.0 in /home/rhoadss/miniconda3/envs/n2v/lib/python3.7/site-packages (from requests-oauthlib>=0.7.0->google-auth-oauthlib<0.5,>=0.4.1->tensorboard) (3.2.0)\n",
      "Requirement already satisfied: typing-extensions>=3.6.4 in /home/rhoadss/miniconda3/envs/n2v/lib/python3.7/site-packages (from importlib-metadata->markdown>=2.6.8->tensorboard) (4.3.0)\n",
      "Requirement already satisfied: zipp>=0.5 in /home/rhoadss/miniconda3/envs/n2v/lib/python3.7/site-packages (from importlib-metadata->markdown>=2.6.8->tensorboard) (3.8.0)\n",
      "Installing collected packages: protobuf, tensorboard\n",
      "  Attempting uninstall: protobuf\n",
      "    Found existing installation: protobuf 3.20.1\n",
      "    Uninstalling protobuf-3.20.1:\n",
      "      Successfully uninstalled protobuf-3.20.1\n",
      "  Attempting uninstall: tensorboard\n",
      "    Found existing installation: tensorboard 2.9.0\n",
      "    Uninstalling tensorboard-2.9.0:\n",
      "      Successfully uninstalled tensorboard-2.9.0\n",
      "\u001b[31mERROR: pip's dependency resolver does not currently take into account all the packages that are installed. This behaviour is the source of the following dependency conflicts.\n",
      "tensorflow 2.4.1 requires flatbuffers~=1.12.0, but you have flatbuffers 2.0 which is incompatible.\n",
      "tensorflow 2.4.1 requires gast==0.3.3, but you have gast 0.4.0 which is incompatible.\n",
      "tensorflow 2.4.1 requires grpcio~=1.32.0, but you have grpcio 1.42.0 which is incompatible.\n",
      "tensorflow 2.4.1 requires numpy~=1.19.2, but you have numpy 1.21.5 which is incompatible.\n",
      "tensorflow 2.4.1 requires six~=1.15.0, but you have six 1.16.0 which is incompatible.\n",
      "tensorflow 2.4.1 requires tensorflow-estimator<2.5.0,>=2.4.0, but you have tensorflow-estimator 2.6.0 which is incompatible.\n",
      "tensorflow 2.4.1 requires typing-extensions~=3.7.4, but you have typing-extensions 4.3.0 which is incompatible.\n",
      "tensorflow 2.4.1 requires wrapt~=1.12.1, but you have wrapt 1.14.1 which is incompatible.\u001b[0m\u001b[31m\n",
      "\u001b[0mSuccessfully installed protobuf-3.19.4 tensorboard-2.10.0\n"
     ]
    }
   ],
   "source": [
    "!pip install -U tensorboard "
   ]
  },
  {
   "cell_type": "code",
   "execution_count": 16,
   "id": "0c79d276",
   "metadata": {
    "scrolled": true
   },
   "outputs": [
    {
     "name": "stdout",
     "output_type": "stream",
     "text": [
      "2022-09-05 12:26:25.653200: I tensorflow/stream_executor/platform/default/dso_loader.cc:49] Successfully opened dynamic library libcudart.so.10.1\n",
      "\n",
      "***** TensorBoard Uploader *****\n",
      "\n",
      "This will upload your TensorBoard logs to https://tensorboard.dev/ from\n",
      "the following directory:\n",
      "\n",
      "Documents/DL_MBL_2022_1hot/N2V_models/n2v_3D_6channel/logs/\n",
      "\n",
      "This TensorBoard will be visible to everyone. Do not upload sensitive\n",
      "data.\n",
      "\n",
      "Your use of this service is subject to Google's Terms of Service\n",
      "<https://policies.google.com/terms> and Privacy Policy\n",
      "<https://policies.google.com/privacy>, and TensorBoard.dev's Terms of Service\n",
      "<https://tensorboard.dev/policy/terms/>.\n",
      "\n",
      "This notice will not be shown again while you are logged into the uploader.\n",
      "To log out, run `tensorboard dev auth revoke`.\n",
      "\n",
      "Continue? (yes/NO) ^C\n",
      "Traceback (most recent call last):\n",
      "  File \"/home/rhoadss/miniconda3/envs/n2v/bin/tensorboard\", line 8, in <module>\n",
      "    sys.exit(run_main())\n",
      "  File \"/home/rhoadss/miniconda3/envs/n2v/lib/python3.7/site-packages/tensorboard/main.py\", line 46, in run_main\n",
      "    app.run(tensorboard.main, flags_parser=tensorboard.configure)\n",
      "  File \"/home/rhoadss/miniconda3/envs/n2v/lib/python3.7/site-packages/absl/app.py\", line 312, in run\n",
      "    _run_main(main, args)\n",
      "  File \"/home/rhoadss/miniconda3/envs/n2v/lib/python3.7/site-packages/absl/app.py\", line 258, in _run_main\n",
      "    sys.exit(main(argv))\n",
      "  File \"/home/rhoadss/miniconda3/envs/n2v/lib/python3.7/site-packages/tensorboard/program.py\", line 276, in main\n",
      "    return runner(self.flags) or 0\n",
      "  File \"/home/rhoadss/miniconda3/envs/n2v/lib/python3.7/site-packages/tensorboard/uploader/uploader_subcommand.py\", line 692, in run\n",
      "    return _run(flags, self._experiment_url_callback)\n",
      "  File \"/home/rhoadss/miniconda3/envs/n2v/lib/python3.7/site-packages/tensorboard/uploader/uploader_subcommand.py\", line 94, in _run\n",
      "    _prompt_for_user_ack(intent)\n",
      "  File \"/home/rhoadss/miniconda3/envs/n2v/lib/python3.7/site-packages/tensorboard/uploader/uploader_subcommand.py\", line 67, in _prompt_for_user_ack\n",
      "    response = input(\"Continue? (yes/NO) \")\n",
      "KeyboardInterrupt\n"
     ]
    }
   ],
   "source": [
    "!tensorboard dev upload --logdir \\\n",
    "    'Documents/DL_MBL_2022_1hot/N2V_models/n2v_3D_6channel/logs/'"
   ]
  },
  {
   "cell_type": "code",
   "execution_count": 17,
   "id": "2298f428",
   "metadata": {},
   "outputs": [
    {
     "ename": "NameError",
     "evalue": "name 'yes' is not defined",
     "output_type": "error",
     "traceback": [
      "\u001b[0;31m---------------------------------------------------------------------------\u001b[0m",
      "\u001b[0;31mNameError\u001b[0m                                 Traceback (most recent call last)",
      "\u001b[0;32m/tmp/ipykernel_12513/395166110.py\u001b[0m in \u001b[0;36m<module>\u001b[0;34m\u001b[0m\n\u001b[0;32m----> 1\u001b[0;31m \u001b[0myes\u001b[0m\u001b[0;34m\u001b[0m\u001b[0;34m\u001b[0m\u001b[0m\n\u001b[0m",
      "\u001b[0;31mNameError\u001b[0m: name 'yes' is not defined"
     ]
    }
   ],
   "source": [
    "yes"
   ]
  },
  {
   "cell_type": "code",
   "execution_count": null,
   "id": "198bd21b",
   "metadata": {},
   "outputs": [],
   "source": [
    "# # path = glob.glob('/mnt/shared/potatoshapes/shannonsdata/N2V_patches/*.tiff')\n",
    "# len(path)"
   ]
  },
  {
   "cell_type": "code",
   "execution_count": null,
   "id": "b31c5dda",
   "metadata": {},
   "outputs": [],
   "source": [
    "# path = glob.glob('/mnt/shared/potatoshapes/shannonsdata/N2V_patches/*_validation_validation_train.tiff')\n",
    "# len(path)"
   ]
  },
  {
   "cell_type": "code",
   "execution_count": null,
   "id": "929ea387",
   "metadata": {},
   "outputs": [],
   "source": [
    "# val_paths = path[:500]"
   ]
  },
  {
   "cell_type": "code",
   "execution_count": null,
   "id": "e45a0163",
   "metadata": {},
   "outputs": [],
   "source": [
    "# for val_path in glob.glob(\"/mnt/shared/potatoshapes/shannonsdata/N2V_patches/*_validation_validation_train.tiff\"):\n",
    "#      new_path = val_path.replace(\"_validation_validation_train.tiff\", \"_validation.tiff\")\n",
    "#      os.rename(val_path, new_path)"
   ]
  },
  {
   "cell_type": "code",
   "execution_count": null,
   "id": "5402c8d4",
   "metadata": {},
   "outputs": [],
   "source": [
    "# for train_path in path:\n",
    "#     new_path = train_path.replace(\".tiff\", \"_train.tiff\")\n",
    "#     os.rename(train_path, new_path)"
   ]
  },
  {
   "cell_type": "code",
   "execution_count": 21,
   "id": "8e0f3a6f",
   "metadata": {},
   "outputs": [],
   "source": [
    "def get_subset_of_patches(patches):\n",
    "    all_imgs = []\n",
    "    for j in patches:\n",
    "#         print(j)\n",
    "        img = tifffile.imread(j)\n",
    "#         print(img.shape)\n",
    "        all_imgs.append(img)\n",
    "#     print(all_imgs)\n",
    "    return np.stack(all_imgs, axis=0)\n",
    "\n"
   ]
  },
  {
   "cell_type": "code",
   "execution_count": 22,
   "id": "2389fde9",
   "metadata": {},
   "outputs": [],
   "source": [
    "path = glob.glob('/mnt/shared/potatoshapes/shannonsdata/N2V_patches/*train.tiff')\n",
    "\n",
    "d_config = get_subset_of_patches(np.random.choice(path, 50, replace=False))"
   ]
  },
  {
   "cell_type": "code",
   "execution_count": 25,
   "id": "d8137633",
   "metadata": {},
   "outputs": [
    {
     "data": {
      "text/plain": [
       "{'means': ['336.9163024902344',\n",
       "  '264.4642730712891',\n",
       "  '101.07105651855468',\n",
       "  '200.98057983398436',\n",
       "  '54.69622985839844',\n",
       "  '60.3712890625'],\n",
       " 'stds': ['291.56250705737597',\n",
       "  '652.9299607709213',\n",
       "  '312.59708041932987',\n",
       "  '271.1678075876275',\n",
       "  '268.4479170271138',\n",
       "  '290.51899749822127'],\n",
       " 'n_dim': 3,\n",
       " 'axes': 'ZYXC',\n",
       " 'n_channel_in': 6,\n",
       " 'n_channel_out': 6,\n",
       " 'unet_residual': False,\n",
       " 'unet_n_depth': 2,\n",
       " 'unet_kern_size': 3,\n",
       " 'unet_n_first': 32,\n",
       " 'unet_last_activation': 'linear',\n",
       " 'unet_input_shape': (None, None, None, 6),\n",
       " 'train_loss': 'mse',\n",
       " 'train_epochs': 20,\n",
       " 'train_steps_per_epoch': 5,\n",
       " 'train_learning_rate': 0.0004,\n",
       " 'train_batch_size': 50,\n",
       " 'train_tensorboard': True,\n",
       " 'train_checkpoint': 'weights_best.h5',\n",
       " 'train_reduce_lr': {'factor': 0.5, 'patience': 10},\n",
       " 'batch_norm': True,\n",
       " 'n2v_perc_pix': 0.198,\n",
       " 'n2v_patch_shape': (8, 48, 48),\n",
       " 'n2v_manipulator': 'uniform_withCP',\n",
       " 'n2v_neighborhood_radius': 5,\n",
       " 'single_net_per_channel': True,\n",
       " 'structN2Vmask': None,\n",
       " 'probabilistic': False}"
      ]
     },
     "execution_count": 25,
     "metadata": {},
     "output_type": "execute_result"
    }
   ],
   "source": [
    "config = N2VConfig(d_config, \n",
    "                   unet_kern_size=3, \n",
    "                   train_steps_per_epoch=5,\n",
    "                   train_epochs=20, \n",
    "                   train_loss='mse', \n",
    "                   batch_norm=True, \n",
    "                   train_batch_size=50, \n",
    "                   n2v_perc_pix=0.198, \n",
    "                   n2v_patch_shape=(8, 48, 48), \n",
    "                   n2v_manipulator='uniform_withCP', \n",
    "                   n2v_neighborhood_radius=5,\n",
    "                   )\n",
    "vars(config)"
   ]
  },
  {
   "cell_type": "code",
   "execution_count": null,
   "id": "d3b3c86a",
   "metadata": {},
   "outputs": [
    {
     "name": "stderr",
     "output_type": "stream",
     "text": [
      "/home/rhoadss/miniconda3/envs/n2v/lib/python3.7/site-packages/n2v/models/n2v_standard.py:416: UserWarning: output path for model already exists, files may be overwritten: /home/rhoadss/Documents/DL_MBL_2022_1hot/models/n2v_3D_6channel\n",
      "  'output path for model already exists, files may be overwritten: %s' % str(self.logdir.resolve()))\n",
      "2022-09-04 02:37:47.438715: I tensorflow/compiler/jit/xla_cpu_device.cc:41] Not creating XLA devices, tf_xla_enable_xla_devices not set\n",
      "2022-09-04 02:37:47.440027: I tensorflow/stream_executor/platform/default/dso_loader.cc:49] Successfully opened dynamic library libcuda.so.1\n",
      "2022-09-04 02:37:47.523799: I tensorflow/stream_executor/cuda/cuda_gpu_executor.cc:941] successful NUMA node read from SysFS had negative value (-1), but there must be at least one NUMA node, so returning NUMA node zero\n",
      "2022-09-04 02:37:47.525399: I tensorflow/core/common_runtime/gpu/gpu_device.cc:1720] Found device 0 with properties: \n",
      "pciBusID: 0000:00:1e.0 name: Tesla T4 computeCapability: 7.5\n",
      "coreClock: 1.59GHz coreCount: 40 deviceMemorySize: 14.56GiB deviceMemoryBandwidth: 298.08GiB/s\n",
      "2022-09-04 02:37:47.525434: I tensorflow/stream_executor/platform/default/dso_loader.cc:49] Successfully opened dynamic library libcudart.so.10.1\n",
      "2022-09-04 02:37:47.527449: I tensorflow/stream_executor/platform/default/dso_loader.cc:49] Successfully opened dynamic library libcublas.so.10\n",
      "2022-09-04 02:37:47.527516: I tensorflow/stream_executor/platform/default/dso_loader.cc:49] Successfully opened dynamic library libcublasLt.so.10\n",
      "2022-09-04 02:37:47.529113: I tensorflow/stream_executor/platform/default/dso_loader.cc:49] Successfully opened dynamic library libcufft.so.10\n",
      "2022-09-04 02:37:47.529432: I tensorflow/stream_executor/platform/default/dso_loader.cc:49] Successfully opened dynamic library libcurand.so.10\n",
      "2022-09-04 02:37:47.531372: I tensorflow/stream_executor/platform/default/dso_loader.cc:49] Successfully opened dynamic library libcusolver.so.10\n",
      "2022-09-04 02:37:47.532120: I tensorflow/stream_executor/platform/default/dso_loader.cc:49] Successfully opened dynamic library libcusparse.so.10\n",
      "2022-09-04 02:37:47.535885: I tensorflow/stream_executor/platform/default/dso_loader.cc:49] Successfully opened dynamic library libcudnn.so.7\n",
      "2022-09-04 02:37:47.536019: I tensorflow/stream_executor/cuda/cuda_gpu_executor.cc:941] successful NUMA node read from SysFS had negative value (-1), but there must be at least one NUMA node, so returning NUMA node zero\n",
      "2022-09-04 02:37:47.537571: I tensorflow/stream_executor/cuda/cuda_gpu_executor.cc:941] successful NUMA node read from SysFS had negative value (-1), but there must be at least one NUMA node, so returning NUMA node zero\n",
      "2022-09-04 02:37:47.539027: I tensorflow/core/common_runtime/gpu/gpu_device.cc:1862] Adding visible gpu devices: 0\n",
      "2022-09-04 02:37:47.539503: I tensorflow/core/platform/cpu_feature_guard.cc:142] This TensorFlow binary is optimized with oneAPI Deep Neural Network Library (oneDNN) to use the following CPU instructions in performance-critical operations:  SSE4.1 SSE4.2 AVX AVX2 AVX512F FMA\n",
      "To enable them in other operations, rebuild TensorFlow with the appropriate compiler flags.\n",
      "2022-09-04 02:37:47.539917: I tensorflow/compiler/jit/xla_gpu_device.cc:99] Not creating XLA devices, tf_xla_enable_xla_devices not set\n",
      "2022-09-04 02:37:47.540040: I tensorflow/stream_executor/cuda/cuda_gpu_executor.cc:941] successful NUMA node read from SysFS had negative value (-1), but there must be at least one NUMA node, so returning NUMA node zero\n",
      "2022-09-04 02:37:47.541822: I tensorflow/core/common_runtime/gpu/gpu_device.cc:1720] Found device 0 with properties: \n",
      "pciBusID: 0000:00:1e.0 name: Tesla T4 computeCapability: 7.5\n",
      "coreClock: 1.59GHz coreCount: 40 deviceMemorySize: 14.56GiB deviceMemoryBandwidth: 298.08GiB/s\n",
      "2022-09-04 02:37:47.541850: I tensorflow/stream_executor/platform/default/dso_loader.cc:49] Successfully opened dynamic library libcudart.so.10.1\n",
      "2022-09-04 02:37:47.541872: I tensorflow/stream_executor/platform/default/dso_loader.cc:49] Successfully opened dynamic library libcublas.so.10\n",
      "2022-09-04 02:37:47.541883: I tensorflow/stream_executor/platform/default/dso_loader.cc:49] Successfully opened dynamic library libcublasLt.so.10\n",
      "2022-09-04 02:37:47.541893: I tensorflow/stream_executor/platform/default/dso_loader.cc:49] Successfully opened dynamic library libcufft.so.10\n",
      "2022-09-04 02:37:47.541904: I tensorflow/stream_executor/platform/default/dso_loader.cc:49] Successfully opened dynamic library libcurand.so.10\n",
      "2022-09-04 02:37:47.541914: I tensorflow/stream_executor/platform/default/dso_loader.cc:49] Successfully opened dynamic library libcusolver.so.10\n",
      "2022-09-04 02:37:47.541925: I tensorflow/stream_executor/platform/default/dso_loader.cc:49] Successfully opened dynamic library libcusparse.so.10\n",
      "2022-09-04 02:37:47.541936: I tensorflow/stream_executor/platform/default/dso_loader.cc:49] Successfully opened dynamic library libcudnn.so.7\n",
      "2022-09-04 02:37:47.542001: I tensorflow/stream_executor/cuda/cuda_gpu_executor.cc:941] successful NUMA node read from SysFS had negative value (-1), but there must be at least one NUMA node, so returning NUMA node zero\n",
      "2022-09-04 02:37:47.543485: I tensorflow/stream_executor/cuda/cuda_gpu_executor.cc:941] successful NUMA node read from SysFS had negative value (-1), but there must be at least one NUMA node, so returning NUMA node zero\n",
      "2022-09-04 02:37:47.544899: I tensorflow/core/common_runtime/gpu/gpu_device.cc:1862] Adding visible gpu devices: 0\n",
      "2022-09-04 02:37:47.544936: I tensorflow/stream_executor/platform/default/dso_loader.cc:49] Successfully opened dynamic library libcudart.so.10.1\n",
      "2022-09-04 02:37:48.108877: I tensorflow/core/common_runtime/gpu/gpu_device.cc:1261] Device interconnect StreamExecutor with strength 1 edge matrix:\n",
      "2022-09-04 02:37:48.108909: I tensorflow/core/common_runtime/gpu/gpu_device.cc:1267]      0 \n",
      "2022-09-04 02:37:48.108916: I tensorflow/core/common_runtime/gpu/gpu_device.cc:1280] 0:   N \n",
      "2022-09-04 02:37:48.109118: I tensorflow/stream_executor/cuda/cuda_gpu_executor.cc:941] successful NUMA node read from SysFS had negative value (-1), but there must be at least one NUMA node, so returning NUMA node zero\n",
      "2022-09-04 02:37:48.110907: I tensorflow/stream_executor/cuda/cuda_gpu_executor.cc:941] successful NUMA node read from SysFS had negative value (-1), but there must be at least one NUMA node, so returning NUMA node zero\n",
      "2022-09-04 02:37:48.112526: I tensorflow/stream_executor/cuda/cuda_gpu_executor.cc:941] successful NUMA node read from SysFS had negative value (-1), but there must be at least one NUMA node, so returning NUMA node zero\n",
      "2022-09-04 02:37:48.114052: I tensorflow/core/common_runtime/gpu/gpu_device.cc:1406] Created TensorFlow device (/job:localhost/replica:0/task:0/device:GPU:0 with 13677 MB memory) -> physical GPU (device: 0, name: Tesla T4, pci bus id: 0000:00:1e.0, compute capability: 7.5)\n"
     ]
    },
    {
     "name": "stdout",
     "output_type": "stream",
     "text": [
      "36 blind-spots will be generated per training patch of size (8, 48, 48).\n"
     ]
    },
    {
     "name": "stderr",
     "output_type": "stream",
     "text": [
      "Preparing validation data: 100%|██████████████████████████████████████████████████████████████| 500/500 [00:00<00:00, 1370.87it/s]\n",
      "2022-09-04 02:38:58.683786: I tensorflow/compiler/mlir/mlir_graph_optimization_pass.cc:116] None of the MLIR optimization passes are enabled (registered 2)\n",
      "2022-09-04 02:38:58.702988: I tensorflow/core/platform/profile_utils/cpu_utils.cc:112] CPU Frequency: 2499995000 Hz\n"
     ]
    },
    {
     "name": "stdout",
     "output_type": "stream",
     "text": [
      "Epoch 1/20\n"
     ]
    },
    {
     "name": "stderr",
     "output_type": "stream",
     "text": [
      "2022-09-04 02:39:11.553685: I tensorflow/stream_executor/platform/default/dso_loader.cc:49] Successfully opened dynamic library libcudnn.so.7\n",
      "2022-09-04 02:39:12.952940: W tensorflow/stream_executor/gpu/asm_compiler.cc:63] Running ptxas --version returned 256\n",
      "2022-09-04 02:39:13.180158: W tensorflow/stream_executor/gpu/redzone_allocator.cc:314] Internal: ptxas exited with non-zero error code 256, output: \n",
      "Relying on driver to perform ptx compilation. \n",
      "Modify $PATH to customize ptxas location.\n",
      "This message will be only logged once.\n",
      "2022-09-04 02:39:15.392475: I tensorflow/stream_executor/platform/default/dso_loader.cc:49] Successfully opened dynamic library libcublas.so.10\n"
     ]
    },
    {
     "name": "stdout",
     "output_type": "stream",
     "text": [
      "5/5 [==============================] - 113s 15s/step - loss: 1.1600 - n2v_mse: 1.1600 - n2v_abs: 0.4987 - val_loss: 1.3412 - val_n2v_mse: 1.3195 - val_n2v_abs: 0.3284\n",
      "Epoch 2/20\n",
      "5/5 [==============================] - 31s 7s/step - loss: 1.2948 - n2v_mse: 1.2948 - n2v_abs: 0.4453 - val_loss: 1.3200 - val_n2v_mse: 1.2986 - val_n2v_abs: 0.3241\n",
      "Epoch 3/20\n",
      "5/5 [==============================] - 32s 7s/step - loss: 0.9752 - n2v_mse: 0.9752 - n2v_abs: 0.4440 - val_loss: 1.3098 - val_n2v_mse: 1.2887 - val_n2v_abs: 0.3245\n",
      "Epoch 4/20\n",
      "5/5 [==============================] - 32s 7s/step - loss: 0.9380 - n2v_mse: 0.9380 - n2v_abs: 0.4430 - val_loss: 1.3414 - val_n2v_mse: 1.3197 - val_n2v_abs: 0.3274\n",
      "Epoch 5/20\n",
      "5/5 [==============================] - 32s 7s/step - loss: 1.3119 - n2v_mse: 1.3119 - n2v_abs: 0.4853 - val_loss: 1.3826 - val_n2v_mse: 1.3600 - val_n2v_abs: 0.3287\n",
      "Epoch 6/20\n",
      "5/5 [==============================] - 32s 7s/step - loss: 0.7508 - n2v_mse: 0.7508 - n2v_abs: 0.4249 - val_loss: 1.3321 - val_n2v_mse: 1.3103 - val_n2v_abs: 0.3205\n",
      "Epoch 7/20\n",
      "5/5 [==============================] - 32s 7s/step - loss: 1.1695 - n2v_mse: 1.1695 - n2v_abs: 0.4227 - val_loss: 1.2914 - val_n2v_mse: 1.2705 - val_n2v_abs: 0.3110\n",
      "Epoch 8/20\n",
      "5/5 [==============================] - 32s 7s/step - loss: 0.6861 - n2v_mse: 0.6861 - n2v_abs: 0.4160 - val_loss: 1.2702 - val_n2v_mse: 1.2499 - val_n2v_abs: 0.3085\n",
      "Epoch 9/20\n",
      "5/5 [==============================] - 32s 7s/step - loss: 1.7197 - n2v_mse: 1.7197 - n2v_abs: 0.4589 - val_loss: 1.2887 - val_n2v_mse: 1.2679 - val_n2v_abs: 0.3071\n",
      "Epoch 10/20\n",
      "5/5 [==============================] - 32s 7s/step - loss: 0.5143 - n2v_mse: 0.5143 - n2v_abs: 0.3666 - val_loss: 1.2932 - val_n2v_mse: 1.2724 - val_n2v_abs: 0.3038\n",
      "Epoch 11/20\n",
      "5/5 [==============================] - 32s 7s/step - loss: 0.5513 - n2v_mse: 0.5513 - n2v_abs: 0.3382 - val_loss: 1.3011 - val_n2v_mse: 1.2802 - val_n2v_abs: 0.3022\n",
      "Epoch 12/20\n",
      "5/5 [==============================] - 31s 7s/step - loss: 0.7409 - n2v_mse: 0.7409 - n2v_abs: 0.3432 - val_loss: 1.3083 - val_n2v_mse: 1.2874 - val_n2v_abs: 0.3032\n",
      "Epoch 13/20\n",
      "5/5 [==============================] - 31s 7s/step - loss: 1.0759 - n2v_mse: 1.0759 - n2v_abs: 0.3538 - val_loss: 1.3083 - val_n2v_mse: 1.2873 - val_n2v_abs: 0.3047\n",
      "Epoch 14/20\n",
      "5/5 [==============================] - 30s 7s/step - loss: 0.4293 - n2v_mse: 0.4293 - n2v_abs: 0.3055 - val_loss: 1.3066 - val_n2v_mse: 1.2858 - val_n2v_abs: 0.3021\n",
      "Epoch 15/20\n",
      "5/5 [==============================] - 30s 7s/step - loss: 1.0175 - n2v_mse: 1.0175 - n2v_abs: 0.3257 - val_loss: 1.3035 - val_n2v_mse: 1.2828 - val_n2v_abs: 0.2971\n",
      "Epoch 16/20\n",
      "5/5 [==============================] - 30s 7s/step - loss: 1.1503 - n2v_mse: 1.1503 - n2v_abs: 0.3692 - val_loss: 1.2878 - val_n2v_mse: 1.2673 - val_n2v_abs: 0.2924\n",
      "Epoch 17/20\n",
      "5/5 [==============================] - 31s 7s/step - loss: 0.6116 - n2v_mse: 0.6116 - n2v_abs: 0.3260 - val_loss: 1.2505 - val_n2v_mse: 1.2309 - val_n2v_abs: 0.2912\n",
      "Epoch 18/20\n",
      "5/5 [==============================] - 31s 7s/step - loss: 1.0808 - n2v_mse: 1.0808 - n2v_abs: 0.3165 - val_loss: 1.2755 - val_n2v_mse: 1.2554 - val_n2v_abs: 0.2933\n",
      "Epoch 19/20\n",
      "5/5 [==============================] - 31s 7s/step - loss: 0.6801 - n2v_mse: 0.6801 - n2v_abs: 0.3173 - val_loss: 1.2572 - val_n2v_mse: 1.2376 - val_n2v_abs: 0.2916\n",
      "Epoch 20/20\n",
      "5/5 [==============================] - 31s 7s/step - loss: 0.8114 - n2v_mse: 0.8114 - n2v_abs: 0.3331 - val_loss: 1.2114 - val_n2v_mse: 1.1931 - val_n2v_abs: 0.2907\n",
      "\n",
      "Loading network weights from 'weights_best.h5'.\n",
      "36 blind-spots will be generated per training patch of size (8, 48, 48).\n"
     ]
    },
    {
     "name": "stderr",
     "output_type": "stream",
     "text": [
      "Preparing validation data: 100%|██████████████████████████████████████████████████████████████| 500/500 [00:00<00:00, 1343.15it/s]\n"
     ]
    },
    {
     "name": "stdout",
     "output_type": "stream",
     "text": [
      "Epoch 1/20\n",
      "5/5 [==============================] - 32s 7s/step - loss: 0.8650 - n2v_mse: 0.8650 - n2v_abs: 0.3365 - val_loss: 1.6470 - val_n2v_mse: 1.6107 - val_n2v_abs: 0.3257\n",
      "Epoch 2/20\n",
      "5/5 [==============================] - 31s 7s/step - loss: 1.1077 - n2v_mse: 1.1077 - n2v_abs: 0.3603 - val_loss: 1.6028 - val_n2v_mse: 1.5676 - val_n2v_abs: 0.3210\n",
      "Epoch 3/20\n",
      "5/5 [==============================] - 32s 7s/step - loss: 0.9494 - n2v_mse: 0.9494 - n2v_abs: 0.3660 - val_loss: 1.5974 - val_n2v_mse: 1.5621 - val_n2v_abs: 0.3159\n",
      "Epoch 4/20\n",
      "5/5 [==============================] - 32s 7s/step - loss: 1.8226 - n2v_mse: 1.8226 - n2v_abs: 0.3742 - val_loss: 1.5897 - val_n2v_mse: 1.5545 - val_n2v_abs: 0.3125\n",
      "Epoch 5/20\n",
      "5/5 [==============================] - 32s 7s/step - loss: 0.7585 - n2v_mse: 0.7585 - n2v_abs: 0.3300 - val_loss: 1.6134 - val_n2v_mse: 1.5775 - val_n2v_abs: 0.3116\n",
      "Epoch 6/20\n",
      "5/5 [==============================] - 32s 7s/step - loss: 0.4243 - n2v_mse: 0.4243 - n2v_abs: 0.2881 - val_loss: 1.6559 - val_n2v_mse: 1.6190 - val_n2v_abs: 0.3132\n",
      "Epoch 7/20\n",
      "5/5 [==============================] - 32s 7s/step - loss: 0.3747 - n2v_mse: 0.3747 - n2v_abs: 0.2776 - val_loss: 1.6919 - val_n2v_mse: 1.6542 - val_n2v_abs: 0.3165\n",
      "Epoch 8/20\n",
      "5/5 [==============================] - 32s 7s/step - loss: 0.8532 - n2v_mse: 0.8532 - n2v_abs: 0.3192 - val_loss: 1.7177 - val_n2v_mse: 1.6795 - val_n2v_abs: 0.3211\n",
      "Epoch 9/20\n",
      "5/5 [==============================] - 32s 7s/step - loss: 0.4378 - n2v_mse: 0.4378 - n2v_abs: 0.2996 - val_loss: 1.7402 - val_n2v_mse: 1.7018 - val_n2v_abs: 0.3303\n",
      "Epoch 10/20\n",
      "5/5 [==============================] - 32s 7s/step - loss: 0.9633 - n2v_mse: 0.9633 - n2v_abs: 0.3029 - val_loss: 1.7594 - val_n2v_mse: 1.7209 - val_n2v_abs: 0.3365\n",
      "Epoch 11/20\n",
      "5/5 [==============================] - 32s 7s/step - loss: 1.2026 - n2v_mse: 1.2026 - n2v_abs: 0.3120 - val_loss: 1.7693 - val_n2v_mse: 1.7306 - val_n2v_abs: 0.3358\n",
      "Epoch 12/20\n",
      "5/5 [==============================] - 32s 7s/step - loss: 0.3814 - n2v_mse: 0.3814 - n2v_abs: 0.2649 - val_loss: 1.7754 - val_n2v_mse: 1.7366 - val_n2v_abs: 0.3367\n",
      "Epoch 13/20\n",
      "5/5 [==============================] - 32s 7s/step - loss: 0.5095 - n2v_mse: 0.5095 - n2v_abs: 0.2893 - val_loss: 1.7816 - val_n2v_mse: 1.7429 - val_n2v_abs: 0.3421\n",
      "Epoch 14/20\n",
      "5/5 [==============================] - 32s 7s/step - loss: 0.7128 - n2v_mse: 0.7127 - n2v_abs: 0.2795 - val_loss: 1.7973 - val_n2v_mse: 1.7585 - val_n2v_abs: 0.3507\n",
      "\n",
      "Epoch 00014: ReduceLROnPlateau reducing learning rate to 0.00019999999494757503.\n",
      "Epoch 15/20\n",
      "5/5 [==============================] - 32s 7s/step - loss: 0.3454 - n2v_mse: 0.3454 - n2v_abs: 0.2622 - val_loss: 1.7813 - val_n2v_mse: 1.7427 - val_n2v_abs: 0.3475\n",
      "Epoch 16/20\n",
      "5/5 [==============================] - 32s 7s/step - loss: 0.8962 - n2v_mse: 0.8962 - n2v_abs: 0.3161 - val_loss: 1.7548 - val_n2v_mse: 1.7165 - val_n2v_abs: 0.3403\n",
      "Epoch 17/20\n",
      "5/5 [==============================] - 32s 7s/step - loss: 0.8353 - n2v_mse: 0.8353 - n2v_abs: 0.2931 - val_loss: 1.7356 - val_n2v_mse: 1.6975 - val_n2v_abs: 0.3345\n",
      "Epoch 18/20\n",
      "5/5 [==============================] - 32s 7s/step - loss: 1.2710 - n2v_mse: 1.2710 - n2v_abs: 0.3130 - val_loss: 1.7238 - val_n2v_mse: 1.6858 - val_n2v_abs: 0.3316\n",
      "Epoch 19/20\n",
      "5/5 [==============================] - 32s 7s/step - loss: 1.9875 - n2v_mse: 1.9875 - n2v_abs: 0.3171 - val_loss: 1.7118 - val_n2v_mse: 1.6740 - val_n2v_abs: 0.3280\n",
      "Epoch 20/20\n",
      "5/5 [==============================] - 32s 7s/step - loss: 0.6145 - n2v_mse: 0.6145 - n2v_abs: 0.2882 - val_loss: 1.7128 - val_n2v_mse: 1.6750 - val_n2v_abs: 0.3284\n",
      "\n",
      "Loading network weights from 'weights_best.h5'.\n",
      "36 blind-spots will be generated per training patch of size (8, 48, 48).\n"
     ]
    },
    {
     "name": "stderr",
     "output_type": "stream",
     "text": [
      "Preparing validation data: 100%|██████████████████████████████████████████████████████████████| 500/500 [00:00<00:00, 1414.61it/s]\n"
     ]
    },
    {
     "name": "stdout",
     "output_type": "stream",
     "text": [
      "Epoch 1/20\n",
      "5/5 [==============================] - 32s 7s/step - loss: 0.6825 - n2v_mse: 0.6825 - n2v_abs: 0.2991 - val_loss: 0.8637 - val_n2v_mse: 0.8494 - val_n2v_abs: 0.2993\n",
      "Epoch 2/20\n",
      "5/5 [==============================] - 32s 7s/step - loss: 0.9855 - n2v_mse: 0.9855 - n2v_abs: 0.3215 - val_loss: 0.8734 - val_n2v_mse: 0.8589 - val_n2v_abs: 0.3034\n",
      "Epoch 3/20\n",
      "5/5 [==============================] - 32s 7s/step - loss: 0.7727 - n2v_mse: 0.7727 - n2v_abs: 0.3068 - val_loss: 0.8683 - val_n2v_mse: 0.8539 - val_n2v_abs: 0.3046\n",
      "Epoch 4/20\n",
      "5/5 [==============================] - 32s 7s/step - loss: 0.9356 - n2v_mse: 0.9356 - n2v_abs: 0.2949 - val_loss: 0.8607 - val_n2v_mse: 0.8466 - val_n2v_abs: 0.3048\n",
      "Epoch 5/20\n",
      "5/5 [==============================] - 32s 7s/step - loss: 0.4758 - n2v_mse: 0.4758 - n2v_abs: 0.2843 - val_loss: 0.8563 - val_n2v_mse: 0.8423 - val_n2v_abs: 0.3043\n",
      "Epoch 6/20\n",
      "5/5 [==============================] - 32s 7s/step - loss: 0.5037 - n2v_mse: 0.5037 - n2v_abs: 0.3013 - val_loss: 0.8553 - val_n2v_mse: 0.8413 - val_n2v_abs: 0.3032\n",
      "Epoch 7/20\n",
      "5/5 [==============================] - 32s 7s/step - loss: 0.5300 - n2v_mse: 0.5300 - n2v_abs: 0.2951 - val_loss: 0.8596 - val_n2v_mse: 0.8456 - val_n2v_abs: 0.3049\n",
      "Epoch 8/20\n",
      "5/5 [==============================] - 32s 7s/step - loss: 0.4141 - n2v_mse: 0.4141 - n2v_abs: 0.2832 - val_loss: 0.8612 - val_n2v_mse: 0.8471 - val_n2v_abs: 0.3055\n",
      "Epoch 9/20\n",
      "5/5 [==============================] - 32s 7s/step - loss: 2.3465 - n2v_mse: 2.3465 - n2v_abs: 0.3577 - val_loss: 0.8538 - val_n2v_mse: 0.8397 - val_n2v_abs: 0.3006\n",
      "Epoch 10/20\n",
      "5/5 [==============================] - 32s 7s/step - loss: 0.6734 - n2v_mse: 0.6734 - n2v_abs: 0.3098 - val_loss: 0.8406 - val_n2v_mse: 0.8267 - val_n2v_abs: 0.2956\n",
      "Epoch 11/20\n",
      "5/5 [==============================] - 32s 7s/step - loss: 1.1440 - n2v_mse: 1.1440 - n2v_abs: 0.2956 - val_loss: 0.8259 - val_n2v_mse: 0.8122 - val_n2v_abs: 0.2933\n",
      "Epoch 12/20\n",
      "5/5 [==============================] - 32s 7s/step - loss: 0.9815 - n2v_mse: 0.9815 - n2v_abs: 0.3216 - val_loss: 0.8090 - val_n2v_mse: 0.7957 - val_n2v_abs: 0.2922\n",
      "Epoch 13/20\n",
      "5/5 [==============================] - 31s 7s/step - loss: 0.4507 - n2v_mse: 0.4507 - n2v_abs: 0.2609 - val_loss: 0.7950 - val_n2v_mse: 0.7820 - val_n2v_abs: 0.2907\n",
      "Epoch 14/20\n",
      "5/5 [==============================] - 31s 7s/step - loss: 0.7902 - n2v_mse: 0.7902 - n2v_abs: 0.3261 - val_loss: 0.7899 - val_n2v_mse: 0.7771 - val_n2v_abs: 0.2918\n",
      "Epoch 15/20\n",
      "5/5 [==============================] - 30s 7s/step - loss: 0.4091 - n2v_mse: 0.4091 - n2v_abs: 0.2628 - val_loss: 0.7865 - val_n2v_mse: 0.7736 - val_n2v_abs: 0.2912\n",
      "Epoch 16/20\n",
      "5/5 [==============================] - 30s 7s/step - loss: 0.7959 - n2v_mse: 0.7959 - n2v_abs: 0.2853 - val_loss: 0.7790 - val_n2v_mse: 0.7662 - val_n2v_abs: 0.2886\n",
      "Epoch 17/20\n",
      "5/5 [==============================] - 31s 7s/step - loss: 0.6451 - n2v_mse: 0.6451 - n2v_abs: 0.3070 - val_loss: 0.7703 - val_n2v_mse: 0.7577 - val_n2v_abs: 0.2876\n",
      "Epoch 18/20\n",
      "5/5 [==============================] - 31s 7s/step - loss: 0.4765 - n2v_mse: 0.4765 - n2v_abs: 0.2725 - val_loss: 0.7650 - val_n2v_mse: 0.7525 - val_n2v_abs: 0.2879\n",
      "Epoch 19/20\n",
      "5/5 [==============================] - 30s 7s/step - loss: 0.4402 - n2v_mse: 0.4402 - n2v_abs: 0.2700 - val_loss: 0.7611 - val_n2v_mse: 0.7487 - val_n2v_abs: 0.2877\n",
      "Epoch 20/20\n",
      "5/5 [==============================] - 30s 7s/step - loss: 1.0461 - n2v_mse: 1.0461 - n2v_abs: 0.2843 - val_loss: 0.7573 - val_n2v_mse: 0.7450 - val_n2v_abs: 0.2867\n",
      "\n",
      "Loading network weights from 'weights_best.h5'.\n",
      "36 blind-spots will be generated per training patch of size (8, 48, 48).\n"
     ]
    },
    {
     "name": "stderr",
     "output_type": "stream",
     "text": [
      "Preparing validation data: 100%|██████████████████████████████████████████████████████████████| 500/500 [00:00<00:00, 1435.91it/s]\n"
     ]
    },
    {
     "name": "stdout",
     "output_type": "stream",
     "text": [
      "Epoch 1/20\n",
      "5/5 [==============================] - 31s 7s/step - loss: 1.8448 - n2v_mse: 1.8448 - n2v_abs: 0.3552 - val_loss: 0.6794 - val_n2v_mse: 0.6671 - val_n2v_abs: 0.2835\n",
      "Epoch 2/20\n",
      "5/5 [==============================] - 30s 7s/step - loss: 0.3885 - n2v_mse: 0.3885 - n2v_abs: 0.2724 - val_loss: 0.6788 - val_n2v_mse: 0.6667 - val_n2v_abs: 0.2844\n",
      "Epoch 3/20\n",
      "5/5 [==============================] - 31s 7s/step - loss: 1.4992 - n2v_mse: 1.4992 - n2v_abs: 0.3279 - val_loss: 0.6712 - val_n2v_mse: 0.6593 - val_n2v_abs: 0.2854\n",
      "Epoch 4/20\n",
      "5/5 [==============================] - 31s 7s/step - loss: 0.8906 - n2v_mse: 0.8906 - n2v_abs: 0.3090 - val_loss: 0.6619 - val_n2v_mse: 0.6503 - val_n2v_abs: 0.2868\n",
      "Epoch 5/20\n",
      "5/5 [==============================] - 31s 7s/step - loss: 0.6810 - n2v_mse: 0.6810 - n2v_abs: 0.2941 - val_loss: 0.6560 - val_n2v_mse: 0.6445 - val_n2v_abs: 0.2869\n",
      "Epoch 6/20\n",
      "5/5 [==============================] - 31s 7s/step - loss: 0.5320 - n2v_mse: 0.5320 - n2v_abs: 0.2715 - val_loss: 0.6544 - val_n2v_mse: 0.6430 - val_n2v_abs: 0.2881\n",
      "Epoch 7/20\n",
      "5/5 [==============================] - 32s 7s/step - loss: 0.3242 - n2v_mse: 0.3242 - n2v_abs: 0.2749 - val_loss: 0.6497 - val_n2v_mse: 0.6382 - val_n2v_abs: 0.2859\n",
      "Epoch 8/20\n",
      "5/5 [==============================] - 32s 7s/step - loss: 0.5793 - n2v_mse: 0.5793 - n2v_abs: 0.2786 - val_loss: 0.6506 - val_n2v_mse: 0.6390 - val_n2v_abs: 0.2846\n",
      "Epoch 9/20\n",
      "5/5 [==============================] - 32s 7s/step - loss: 0.5345 - n2v_mse: 0.5345 - n2v_abs: 0.2845 - val_loss: 0.6544 - val_n2v_mse: 0.6427 - val_n2v_abs: 0.2848\n",
      "Epoch 10/20\n",
      "5/5 [==============================] - 32s 7s/step - loss: 0.4530 - n2v_mse: 0.4530 - n2v_abs: 0.2653 - val_loss: 0.6583 - val_n2v_mse: 0.6466 - val_n2v_abs: 0.2857\n",
      "Epoch 11/20\n",
      "5/5 [==============================] - 32s 7s/step - loss: 0.5941 - n2v_mse: 0.5941 - n2v_abs: 0.2865 - val_loss: 0.6606 - val_n2v_mse: 0.6488 - val_n2v_abs: 0.2866\n",
      "Epoch 12/20\n",
      "5/5 [==============================] - 32s 7s/step - loss: 0.8087 - n2v_mse: 0.8087 - n2v_abs: 0.2852 - val_loss: 0.6593 - val_n2v_mse: 0.6475 - val_n2v_abs: 0.2862\n",
      "Epoch 13/20\n",
      "5/5 [==============================] - 32s 7s/step - loss: 0.6977 - n2v_mse: 0.6977 - n2v_abs: 0.2773 - val_loss: 0.6554 - val_n2v_mse: 0.6437 - val_n2v_abs: 0.2849\n",
      "Epoch 14/20\n",
      "5/5 [==============================] - 32s 7s/step - loss: 1.1973 - n2v_mse: 1.1973 - n2v_abs: 0.2952 - val_loss: 0.6521 - val_n2v_mse: 0.6404 - val_n2v_abs: 0.2837\n",
      "Epoch 15/20\n",
      "5/5 [==============================] - 32s 7s/step - loss: 0.4369 - n2v_mse: 0.4369 - n2v_abs: 0.2674 - val_loss: 0.6507 - val_n2v_mse: 0.6391 - val_n2v_abs: 0.2834\n",
      "Epoch 16/20\n",
      "5/5 [==============================] - 32s 7s/step - loss: 1.5866 - n2v_mse: 1.5866 - n2v_abs: 0.3067 - val_loss: 0.6487 - val_n2v_mse: 0.6371 - val_n2v_abs: 0.2830\n",
      "Epoch 17/20\n",
      "5/5 [==============================] - 32s 7s/step - loss: 0.7565 - n2v_mse: 0.7565 - n2v_abs: 0.2579 - val_loss: 0.6421 - val_n2v_mse: 0.6306 - val_n2v_abs: 0.2833\n",
      "Epoch 18/20\n",
      "5/5 [==============================] - 32s 7s/step - loss: 0.6190 - n2v_mse: 0.6190 - n2v_abs: 0.2855 - val_loss: 0.6377 - val_n2v_mse: 0.6263 - val_n2v_abs: 0.2843\n",
      "Epoch 19/20\n",
      "5/5 [==============================] - 32s 7s/step - loss: 0.4397 - n2v_mse: 0.4397 - n2v_abs: 0.2839 - val_loss: 0.6373 - val_n2v_mse: 0.6259 - val_n2v_abs: 0.2863\n",
      "Epoch 20/20\n",
      "5/5 [==============================] - 32s 7s/step - loss: 1.3612 - n2v_mse: 1.3612 - n2v_abs: 0.3191 - val_loss: 0.6409 - val_n2v_mse: 0.6294 - val_n2v_abs: 0.2888\n",
      "\n",
      "Loading network weights from 'weights_best.h5'.\n",
      "36 blind-spots will be generated per training patch of size (8, 48, 48).\n"
     ]
    },
    {
     "name": "stderr",
     "output_type": "stream",
     "text": [
      "Preparing validation data: 100%|██████████████████████████████████████████████████████████████| 500/500 [00:00<00:00, 1164.33it/s]\n"
     ]
    },
    {
     "name": "stdout",
     "output_type": "stream",
     "text": [
      "Epoch 1/20\n",
      "5/5 [==============================] - 32s 7s/step - loss: 0.2742 - n2v_mse: 0.2742 - n2v_abs: 0.2449 - val_loss: 0.8503 - val_n2v_mse: 0.8354 - val_n2v_abs: 0.2939\n",
      "Epoch 2/20\n",
      "5/5 [==============================] - 32s 7s/step - loss: 1.1142 - n2v_mse: 1.1142 - n2v_abs: 0.2900 - val_loss: 0.8607 - val_n2v_mse: 0.8455 - val_n2v_abs: 0.2931\n",
      "Epoch 3/20\n",
      "5/5 [==============================] - 32s 7s/step - loss: 0.4335 - n2v_mse: 0.4335 - n2v_abs: 0.2500 - val_loss: 0.8661 - val_n2v_mse: 0.8509 - val_n2v_abs: 0.2915\n",
      "Epoch 4/20\n",
      "5/5 [==============================] - 32s 7s/step - loss: 0.5651 - n2v_mse: 0.5651 - n2v_abs: 0.2675 - val_loss: 0.8793 - val_n2v_mse: 0.8636 - val_n2v_abs: 0.2904\n",
      "Epoch 5/20\n",
      "5/5 [==============================] - 32s 7s/step - loss: 0.5508 - n2v_mse: 0.5508 - n2v_abs: 0.2854 - val_loss: 0.8859 - val_n2v_mse: 0.8701 - val_n2v_abs: 0.2910\n",
      "Epoch 6/20\n",
      "5/5 [==============================] - 32s 7s/step - loss: 0.5601 - n2v_mse: 0.5601 - n2v_abs: 0.2586 - val_loss: 0.8555 - val_n2v_mse: 0.8404 - val_n2v_abs: 0.2895\n",
      "Epoch 7/20\n",
      "5/5 [==============================] - 32s 7s/step - loss: 2.2997 - n2v_mse: 2.2997 - n2v_abs: 0.3543 - val_loss: 0.8383 - val_n2v_mse: 0.8236 - val_n2v_abs: 0.2893\n",
      "Epoch 8/20\n",
      "5/5 [==============================] - 32s 7s/step - loss: 0.9367 - n2v_mse: 0.9367 - n2v_abs: 0.3023 - val_loss: 0.8454 - val_n2v_mse: 0.8305 - val_n2v_abs: 0.2906\n",
      "Epoch 9/20\n",
      "5/5 [==============================] - 32s 7s/step - loss: 2.6911 - n2v_mse: 2.6911 - n2v_abs: 0.3103 - val_loss: 0.8371 - val_n2v_mse: 0.8224 - val_n2v_abs: 0.2906\n",
      "Epoch 10/20\n",
      "5/5 [==============================] - 32s 7s/step - loss: 0.6207 - n2v_mse: 0.6207 - n2v_abs: 0.2944 - val_loss: 0.8297 - val_n2v_mse: 0.8152 - val_n2v_abs: 0.2905\n",
      "Epoch 11/20\n",
      "5/5 [==============================] - 32s 7s/step - loss: 1.3292 - n2v_mse: 1.3292 - n2v_abs: 0.2980 - val_loss: 0.8323 - val_n2v_mse: 0.8176 - val_n2v_abs: 0.2903\n",
      "Epoch 12/20\n",
      "5/5 [==============================] - 32s 7s/step - loss: 1.0813 - n2v_mse: 1.0813 - n2v_abs: 0.3021 - val_loss: 0.8334 - val_n2v_mse: 0.8187 - val_n2v_abs: 0.2919\n",
      "Epoch 13/20\n",
      "5/5 [==============================] - 32s 7s/step - loss: 1.0772 - n2v_mse: 1.0772 - n2v_abs: 0.3089 - val_loss: 0.8509 - val_n2v_mse: 0.8358 - val_n2v_abs: 0.2942\n",
      "Epoch 14/20\n",
      "5/5 [==============================] - 32s 7s/step - loss: 0.4201 - n2v_mse: 0.4201 - n2v_abs: 0.2734 - val_loss: 0.8717 - val_n2v_mse: 0.8563 - val_n2v_abs: 0.2968\n",
      "Epoch 15/20\n",
      "5/5 [==============================] - 32s 7s/step - loss: 0.3674 - n2v_mse: 0.3674 - n2v_abs: 0.2572 - val_loss: 0.8743 - val_n2v_mse: 0.8588 - val_n2v_abs: 0.2954\n",
      "Epoch 16/20\n",
      "5/5 [==============================] - 32s 7s/step - loss: 0.8555 - n2v_mse: 0.8555 - n2v_abs: 0.2808 - val_loss: 0.8697 - val_n2v_mse: 0.8543 - val_n2v_abs: 0.2924\n",
      "Epoch 17/20\n",
      "5/5 [==============================] - 32s 7s/step - loss: 0.5298 - n2v_mse: 0.5298 - n2v_abs: 0.2863 - val_loss: 0.8568 - val_n2v_mse: 0.8416 - val_n2v_abs: 0.2900\n",
      "Epoch 18/20\n",
      "5/5 [==============================] - 32s 7s/step - loss: 0.6384 - n2v_mse: 0.6384 - n2v_abs: 0.2814 - val_loss: 0.8504 - val_n2v_mse: 0.8353 - val_n2v_abs: 0.2895\n",
      "Epoch 19/20\n",
      "5/5 [==============================] - 32s 7s/step - loss: 0.3486 - n2v_mse: 0.3486 - n2v_abs: 0.2546 - val_loss: 0.8569 - val_n2v_mse: 0.8416 - val_n2v_abs: 0.2880\n",
      "Epoch 20/20\n",
      "5/5 [==============================] - 32s 7s/step - loss: 4.9808 - n2v_mse: 4.9808 - n2v_abs: 0.3209 - val_loss: 0.8675 - val_n2v_mse: 0.8520 - val_n2v_abs: 0.2880\n",
      "\n",
      "Epoch 00020: ReduceLROnPlateau reducing learning rate to 9.999999747378752e-05.\n",
      "\n",
      "Loading network weights from 'weights_best.h5'.\n",
      "36 blind-spots will be generated per training patch of size (8, 48, 48).\n"
     ]
    },
    {
     "name": "stderr",
     "output_type": "stream",
     "text": [
      "Preparing validation data: 100%|██████████████████████████████████████████████████████████████| 500/500 [00:00<00:00, 1450.44it/s]\n"
     ]
    },
    {
     "name": "stdout",
     "output_type": "stream",
     "text": [
      "Epoch 1/20\n",
      "5/5 [==============================] - 32s 7s/step - loss: 1.0796 - n2v_mse: 1.0796 - n2v_abs: 0.2734 - val_loss: 0.7325 - val_n2v_mse: 0.7189 - val_n2v_abs: 0.2793\n",
      "Epoch 2/20\n",
      "5/5 [==============================] - 32s 7s/step - loss: 1.0144 - n2v_mse: 1.0144 - n2v_abs: 0.3041 - val_loss: 0.7318 - val_n2v_mse: 0.7183 - val_n2v_abs: 0.2794\n",
      "Epoch 3/20\n",
      "5/5 [==============================] - 32s 7s/step - loss: 0.4439 - n2v_mse: 0.4439 - n2v_abs: 0.2915 - val_loss: 0.7325 - val_n2v_mse: 0.7189 - val_n2v_abs: 0.2796\n",
      "Epoch 4/20\n",
      "5/5 [==============================] - 32s 7s/step - loss: 0.5701 - n2v_mse: 0.5701 - n2v_abs: 0.2792 - val_loss: 0.7341 - val_n2v_mse: 0.7205 - val_n2v_abs: 0.2796\n",
      "Epoch 5/20\n",
      "5/5 [==============================] - 32s 7s/step - loss: 2.2415 - n2v_mse: 2.2415 - n2v_abs: 0.2787 - val_loss: 0.7344 - val_n2v_mse: 0.7207 - val_n2v_abs: 0.2793\n",
      "Epoch 6/20\n",
      "5/5 [==============================] - 32s 7s/step - loss: 0.8179 - n2v_mse: 0.8179 - n2v_abs: 0.3006 - val_loss: 0.7329 - val_n2v_mse: 0.7193 - val_n2v_abs: 0.2790\n",
      "Epoch 7/20\n",
      "5/5 [==============================] - 32s 7s/step - loss: 0.4761 - n2v_mse: 0.4761 - n2v_abs: 0.2716 - val_loss: 0.7293 - val_n2v_mse: 0.7158 - val_n2v_abs: 0.2782\n",
      "Epoch 8/20\n",
      "5/5 [==============================] - 32s 7s/step - loss: 0.3749 - n2v_mse: 0.3749 - n2v_abs: 0.2698 - val_loss: 0.7271 - val_n2v_mse: 0.7136 - val_n2v_abs: 0.2781\n",
      "Epoch 9/20\n",
      "5/5 [==============================] - 32s 7s/step - loss: 0.4813 - n2v_mse: 0.4813 - n2v_abs: 0.2680 - val_loss: 0.7268 - val_n2v_mse: 0.7134 - val_n2v_abs: 0.2782\n",
      "Epoch 10/20\n",
      "5/5 [==============================] - 32s 7s/step - loss: 1.2939 - n2v_mse: 1.2939 - n2v_abs: 0.3088 - val_loss: 0.7253 - val_n2v_mse: 0.7119 - val_n2v_abs: 0.2777\n",
      "Epoch 11/20\n",
      "5/5 [==============================] - 32s 7s/step - loss: 2.2053 - n2v_mse: 2.2053 - n2v_abs: 0.2907 - val_loss: 0.7299 - val_n2v_mse: 0.7164 - val_n2v_abs: 0.2782\n",
      "Epoch 12/20\n",
      "5/5 [==============================] - 32s 7s/step - loss: 1.1464 - n2v_mse: 1.1464 - n2v_abs: 0.2947 - val_loss: 0.7337 - val_n2v_mse: 0.7200 - val_n2v_abs: 0.2781\n",
      "Epoch 13/20\n",
      "5/5 [==============================] - 32s 7s/step - loss: 0.6747 - n2v_mse: 0.6747 - n2v_abs: 0.2733 - val_loss: 0.7314 - val_n2v_mse: 0.7177 - val_n2v_abs: 0.2777\n",
      "Epoch 14/20\n",
      "5/5 [==============================] - 32s 7s/step - loss: 0.6162 - n2v_mse: 0.6162 - n2v_abs: 0.2673 - val_loss: 0.7250 - val_n2v_mse: 0.7116 - val_n2v_abs: 0.2769\n",
      "Epoch 15/20\n",
      "5/5 [==============================] - 32s 7s/step - loss: 0.7539 - n2v_mse: 0.7539 - n2v_abs: 0.2889 - val_loss: 0.7237 - val_n2v_mse: 0.7103 - val_n2v_abs: 0.2766\n",
      "Epoch 16/20\n",
      "5/5 [==============================] - 32s 7s/step - loss: 0.4012 - n2v_mse: 0.4012 - n2v_abs: 0.2558 - val_loss: 0.7264 - val_n2v_mse: 0.7130 - val_n2v_abs: 0.2765\n",
      "Epoch 17/20\n",
      "5/5 [==============================] - 32s 7s/step - loss: 0.6366 - n2v_mse: 0.6366 - n2v_abs: 0.2700 - val_loss: 0.7237 - val_n2v_mse: 0.7104 - val_n2v_abs: 0.2767\n",
      "Epoch 18/20\n",
      "5/5 [==============================] - 32s 7s/step - loss: 0.3396 - n2v_mse: 0.3396 - n2v_abs: 0.2519 - val_loss: 0.7226 - val_n2v_mse: 0.7093 - val_n2v_abs: 0.2766\n",
      "Epoch 19/20\n",
      "5/5 [==============================] - 32s 7s/step - loss: 0.3233 - n2v_mse: 0.3233 - n2v_abs: 0.2315 - val_loss: 0.7208 - val_n2v_mse: 0.7076 - val_n2v_abs: 0.2770\n",
      "Epoch 20/20\n",
      "5/5 [==============================] - 32s 7s/step - loss: 0.6507 - n2v_mse: 0.6507 - n2v_abs: 0.2572 - val_loss: 0.7157 - val_n2v_mse: 0.7025 - val_n2v_abs: 0.2764\n",
      "\n",
      "Loading network weights from 'weights_best.h5'.\n",
      "36 blind-spots will be generated per training patch of size (8, 48, 48).\n"
     ]
    },
    {
     "name": "stderr",
     "output_type": "stream",
     "text": [
      "Preparing validation data: 100%|██████████████████████████████████████████████████████████████| 500/500 [00:00<00:00, 1118.69it/s]\n"
     ]
    },
    {
     "name": "stdout",
     "output_type": "stream",
     "text": [
      "Epoch 1/20\n",
      "5/5 [==============================] - ETA: 0s - loss: 0.4389 - n2v_mse: 0.4389 - n2v_abs: 0.2587"
     ]
    }
   ],
   "source": [
    "config = N2VConfig(d_config, \n",
    "                   unet_kern_size=3, \n",
    "                   train_steps_per_epoch=5,\n",
    "                   train_epochs=20, \n",
    "                   train_loss='mse', \n",
    "                   batch_norm=True, \n",
    "                   train_batch_size=50, \n",
    "                   n2v_perc_pix=0.198, \n",
    "                   n2v_patch_shape=(8, 48, 48), \n",
    "                   n2v_manipulator='uniform_withCP', \n",
    "                   n2v_neighborhood_radius=5,\n",
    "                   )\n",
    "del d_config\n",
    "    \n",
    "model_name = f'n2v_3D_6channel_{time.time()}'\n",
    "basedir = 'models'\n",
    "model = N2V(config=config, name=model_name, basedir=basedir)\n",
    "\n",
    "\n",
    "path = glob.glob('/mnt/shared/potatoshapes/shannonsdata/N2V_patches/*train.tiff')\n",
    "random.shuffle(path)\n",
    "\n",
    "patchpergroup = 5000\n",
    "numofgroup = math.ceil(len(path)/patchpergroup)\n",
    "patch_subgroups = np.array_split(path, numofgroup)\n",
    "\n",
    "\n",
    "path_val = glob.glob(\"/mnt/shared/potatoshapes/shannonsdata/N2V_patches/*_validation.tiff\")\n",
    "d_val = get_subset_of_patches(path_val)\n",
    "\n",
    "\n",
    "for x,patches in enumerate(patch_subgroups[:1]):\n",
    "    d_train = get_subset_of_patches(patches)\n",
    "    history = model.train(d_train, d_val)\n",
    "#     model.load_weights(\"weights_last.h5\")\n"
   ]
  },
  {
   "cell_type": "code",
   "execution_count": null,
   "id": "bc19fdb1",
   "metadata": {},
   "outputs": [],
   "source": []
  }
 ],
 "metadata": {
  "kernelspec": {
   "display_name": "Python 3 (ipykernel)",
   "language": "python",
   "name": "python3"
  },
  "language_info": {
   "codemirror_mode": {
    "name": "ipython",
    "version": 3
   },
   "file_extension": ".py",
   "mimetype": "text/x-python",
   "name": "python",
   "nbconvert_exporter": "python",
   "pygments_lexer": "ipython3",
   "version": "3.7.13"
  }
 },
 "nbformat": 4,
 "nbformat_minor": 5
}
